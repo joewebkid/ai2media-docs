{
  "nbformat": 4,
  "nbformat_minor": 0,
  "metadata": {
    "colab": {
      "name": "2.1. Как искать источники информации.ipynb",
      "provenance": [],
      "authorship_tag": "ABX9TyMcmjERe9YuRi1fi7f3fXnW",
      "include_colab_link": true
    },
    "kernelspec": {
      "name": "python3",
      "display_name": "Python 3"
    },
    "language_info": {
      "name": "python"
    }
  },
  "cells": [
    {
      "cell_type": "markdown",
      "metadata": {
        "id": "view-in-github",
        "colab_type": "text"
      },
      "source": [
        "<a href=\"https://colab.research.google.com/github/joewebkid/ai2media-docs/blob/main/2_1_%D0%9A%D0%B0%D0%BA_%D0%B8%D1%81%D0%BA%D0%B0%D1%82%D1%8C_%D0%B8%D1%81%D1%82%D0%BE%D1%87%D0%BD%D0%B8%D0%BA%D0%B8_%D0%B8%D0%BD%D1%84%D0%BE%D1%80%D0%BC%D0%B0%D1%86%D0%B8%D0%B8.ipynb\" target=\"_parent\"><img src=\"https://colab.research.google.com/assets/colab-badge.svg\" alt=\"Open In Colab\"/></a>"
      ]
    },
    {
      "cell_type": "markdown",
      "source": [
        "## Rss ленты\n",
        "Поиск информации по запросу\n",
        "\n",
        "1) Ввод в гугле \"запрос\" + rss\n",
        "\n",
        "2) Добавить к корневой странице сайта, слова xml | feed | rss\n",
        "\n",
        "3) Искать слова subscribe | rss | feed среди разделов сайта\n",
        "\n",
        "Начинать поиск нужно с лидеров рынка. \n",
        "\n",
        "---\n",
        "**Пример**\n",
        "Если мы хотим разобраться в вопросе связанном со спорт одеждой. Нужно искать информацию впервую очередь у Адидас, Найком и т.д."
      ],
      "metadata": {
        "id": "XMxGGwrIJFoa"
      }
    }
  ]
}